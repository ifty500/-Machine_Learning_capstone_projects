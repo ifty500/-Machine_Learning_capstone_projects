{
 "cells": [
  {
   "cell_type": "code",
   "execution_count": 8,
   "metadata": {},
   "outputs": [],
   "source": [
    "import warnings\n",
    "warnings.filterwarnings('ignore')\n",
    "import pandas as pd\n",
    "import numpy as np\n",
    "import matplotlib.pyplot as plt\n",
    "from sklearn.linear_model import LogisticRegression\n",
    "from sklearn.model_selection import train_test_split\n",
    "from sklearn.preprocessing import StandardScaler\n",
    "\n"
   ]
  },
  {
   "cell_type": "code",
   "execution_count": null,
   "metadata": {},
   "outputs": [],
   "source": [
    "# Load the passenger data\n",
    "passengers = pd.read_csv('passengers.csv')\n",
    "#print(passengers.head())\n",
    "\n",
    "# Update sex column to numerical\n",
    "passengers['Sex'] = passengers['Sex'].map({'male':0, 'female':1})\n",
    "#print(passengers.head())\n",
    "\n",
    "# Fill the nan values in the age column\n",
    "#print(passengers['Age'].values)\n",
    "passengers['Age'].fillna(inplace=True, value = round(passengers['Age'].mean()))\n",
    "\n",
    "print(passenger)"
   ]
  }
 ],
 "metadata": {
  "kernelspec": {
   "display_name": "Python 3",
   "language": "python",
   "name": "python3"
  },
  "language_info": {
   "codemirror_mode": {
    "name": "ipython",
    "version": 3
   },
   "file_extension": ".py",
   "mimetype": "text/x-python",
   "name": "python",
   "nbconvert_exporter": "python",
   "pygments_lexer": "ipython3",
   "version": "3.7.4"
  }
 },
 "nbformat": 4,
 "nbformat_minor": 2
}

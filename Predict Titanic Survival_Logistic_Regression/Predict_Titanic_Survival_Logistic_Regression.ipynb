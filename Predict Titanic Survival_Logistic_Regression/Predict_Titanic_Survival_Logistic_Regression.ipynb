{
 "cells": [
  {
   "cell_type": "markdown",
   "metadata": {},
   "source": [
    "# Predict Titanic Survival\n",
    "\n",
    "The RMS Titanic set sail on its maiden voyage in 1912, crossing the Atlantic from Southampton, England to New York City. The ship never completed the voyage, sinking to the bottom of the Atlantic Ocean after hitting an iceberg, bringing down 1,502 of 2,224 passengers onboard.\n",
    "\n",
    "In this project you will create a Logistic Regression model that predicts which passengers survived the sinking of the Titanic, based on features like age and class.\n",
    "\n",
    "\n"
   ]
  },
  {
   "cell_type": "markdown",
   "metadata": {},
   "source": [
    "# Question\n",
    "\n",
    "Load the Data\n",
    "\n",
    "1.\n",
    "The file passengers.csv contains the data of 892 passengers onboard the Titanic when it sank that fateful day. Let’s begin by loading the data into a pandas DataFrame named passengers. Print passengers and inspect the columns. What features could we use to predict survival?\n",
    "\n",
    "\n",
    "\n",
    "Clean the Data\n",
    "\n",
    "2.\n",
    "Given the saying, “women and children first,” Sex and Age seem like good features to predict survival. Let’s map the text values in the Sex column to a numerical value. Update Sex such that all values female are replaced with 1 and all values male are replaced with 0.\n",
    "\n",
    "\n",
    "3.\n",
    "Let’s take a look at Age. Print passengers['Age'].values. You can see we have multiple missing values, or nans. Fill all the empty Age values in passengers with the mean age.\n",
    "\n",
    "\n",
    "\n",
    "4.\n",
    "Given the strict class system onboard the Titanic, let’s utilize the Pclass column, or the passenger class, as another feature. Create a new column named FirstClass that stores 1 for all passengers in first class and 0 for all other passengers.\n",
    "\n",
    "\n",
    "\n",
    "5.\n",
    "Create a new column named SecondClass that stores 1 for all passengers in second class and 0 for all other passengers.\n",
    "\n",
    "Print passengers and inspect the DataFrame to ensure all the updates have been made.\n",
    "\n",
    "\n",
    "\n",
    "Select and Split the Data\n",
    "6.\n",
    "Now that we have cleaned our data, let’s select the columns we want to build our model on. Select columns Sex, Age, FirstClass, and SecondClass and store them in a variable named features. Select column Survived and store it a variable named survival.\n",
    "\n",
    "\n",
    "\n",
    "7.\n",
    "Split the data into training and test sets using sklearn‘s train_test_split() method. We’ll use the training set to train the model and the test set to evaluate the model.\n",
    "\n",
    "\n",
    "\n",
    "Normalize the Data\n",
    "8.\n",
    "Since sklearn‘s Logistic Regression implementation uses Regularization, we need to scale our feature data. Create a StandardScaler object, .fit_transform() it on the training features, and .transform() the test features.\n",
    "\n",
    "\n",
    "\n",
    "Create and Evaluate the Model\n",
    "9.\n",
    "Create a LogisticRegression model with sklearn and .fit() it on the training data.\n",
    "\n",
    "Fitting the model will perform gradient descent to find the feature coefficients that minimize the log-loss for the training data.\n",
    "\n",
    "\n",
    "\n",
    "10.\n",
    ".score() the model on the training data and print the training score.\n",
    "\n",
    "Scoring the model on the training data will run the data through the model and make final classifications on survival for each passenger in the training set. The score returned is the percentage of correct classifications, or the accuracy.\n",
    "\n",
    "\n",
    "\n",
    "11.\n",
    ".score() the model on the test data and print the test score.\n",
    "\n",
    "Similarly, scoring the model on the testing data will run the data through the model and make final classifications on survival for each passenger in the test set.\n",
    "\n",
    "How well did your model perform?\n",
    "\n",
    "\n",
    "\n",
    "12.\n",
    "Print the feature coefficients determined by the model. Which feature is most important in predicting survival on the sinking of the Titanic?\n",
    "\n",
    "\n",
    "\n",
    "Predict with the Model\n",
    "13.\n",
    "Let’s use our model to make predictions on the survival of a few fateful passengers. Provided in the code editor is information for 3rd class passenger Jack and 1st class passenger Rose, stored in NumPy arrays. The arrays store 4 feature values, in the following order:\n",
    "\n",
    "Sex, represented by a 0 for male and 1 for female\n",
    "Age, represented as an integer in years\n",
    "FirstClass, with a 1 indicating the passenger is in first class\n",
    "SecondClass, with a 1 indicating the passenger is in second class\n",
    "A third array, You, is also provided in the code editor with empty feature values. Uncomment the line containing You and update the array with your information, or the information for some fictitious passenger. Make sure to enter all values as floats with a .!\n",
    "\n",
    "\n",
    "\n",
    "14.\n",
    "Combine Jack, Rose, and You into a single NumPy array named sample_passengers.\n",
    "\n",
    "\n",
    "\n",
    "15.\n",
    "Since our Logistic Regression model was trained on scaled feature data, we must also scale the feature data we are making predictions on. Using the StandardScaler object created earlier, apply its .transform() method to sample_passengers and save the result to sample_passengers.\n",
    "\n",
    "Print sample_passengers to view the scaled features.\n",
    "\n",
    "\n",
    "\n",
    "16.\n",
    "Who will survive, and who will sink? Use your model’s .predict() method on sample_passengers and print the result to find out.\n",
    "\n",
    "Want to see the probabilities that led to these predictions? Call your model’s .predict_proba() method on sample_passengers and print the result. The 1st column is the probability of a passenger perishing on the Titanic, and the 2nd column is the probability of a passenger surviving the sinking (which was calculated by our model to make the final classification decision)."
   ]
  },
  {
   "cell_type": "code",
   "execution_count": 8,
   "metadata": {},
   "outputs": [],
   "source": [
    "import warnings\n",
    "warnings.filterwarnings('ignore')\n",
    "import pandas as pd\n",
    "import numpy as np\n",
    "import matplotlib.pyplot as plt\n",
    "from sklearn.linear_model import LogisticRegression\n",
    "from sklearn.model_selection import train_test_split\n",
    "from sklearn.preprocessing import StandardScaler\n",
    "\n"
   ]
  },
  {
   "cell_type": "code",
   "execution_count": 10,
   "metadata": {},
   "outputs": [
    {
     "name": "stdout",
     "output_type": "stream",
     "text": [
      "   PassengerId  Survived  Pclass  \\\n",
      "0            1         0       3   \n",
      "1            2         1       1   \n",
      "2            3         1       3   \n",
      "3            4         1       1   \n",
      "4            5         0       3   \n",
      "\n",
      "                                                Name  Sex   Age  SibSp  Parch  \\\n",
      "0                            Braund, Mr. Owen Harris    0  22.0      1      0   \n",
      "1  Cumings, Mrs. John Bradley (Florence Briggs Th...    1  38.0      1      0   \n",
      "2                             Heikkinen, Miss. Laina    1  26.0      0      0   \n",
      "3       Futrelle, Mrs. Jacques Heath (Lily May Peel)    1  35.0      1      0   \n",
      "4                           Allen, Mr. William Henry    0  35.0      0      0   \n",
      "\n",
      "             Ticket     Fare Cabin Embarked  \n",
      "0         A/5 21171   7.2500   NaN        S  \n",
      "1          PC 17599  71.2833   C85        C  \n",
      "2  STON/O2. 3101282   7.9250   NaN        S  \n",
      "3            113803  53.1000  C123        S  \n",
      "4            373450   8.0500   NaN        S  \n"
     ]
    }
   ],
   "source": [
    "# Load the passenger data\n",
    "passengers = pd.read_csv('passengers.csv')\n",
    "#print(passengers.head())\n",
    "\n",
    "# Update sex column to numerical\n",
    "passengers['Sex'] = passengers['Sex'].map({'male':0, 'female':1})\n",
    "#print(passengers.head())\n",
    "\n",
    "# Fill the nan values in the age column\n",
    "#print(passengers['Age'].values)\n",
    "passengers['Age'].fillna(inplace=True, value = round(passengers['Age'].mean()))\n",
    "\n",
    "print(passengers.head())"
   ]
  },
  {
   "cell_type": "code",
   "execution_count": 12,
   "metadata": {},
   "outputs": [
    {
     "name": "stdout",
     "output_type": "stream",
     "text": [
      "   PassengerId  Survived  Pclass  \\\n",
      "0            1         0       3   \n",
      "1            2         1       1   \n",
      "2            3         1       3   \n",
      "3            4         1       1   \n",
      "4            5         0       3   \n",
      "\n",
      "                                                Name  Sex   Age  SibSp  Parch  \\\n",
      "0                            Braund, Mr. Owen Harris    0  22.0      1      0   \n",
      "1  Cumings, Mrs. John Bradley (Florence Briggs Th...    1  38.0      1      0   \n",
      "2                             Heikkinen, Miss. Laina    1  26.0      0      0   \n",
      "3       Futrelle, Mrs. Jacques Heath (Lily May Peel)    1  35.0      1      0   \n",
      "4                           Allen, Mr. William Henry    0  35.0      0      0   \n",
      "\n",
      "             Ticket     Fare Cabin Embarked  FirstClass  SecondClass  \n",
      "0         A/5 21171   7.2500   NaN        S           0            0  \n",
      "1          PC 17599  71.2833   C85        C           1            0  \n",
      "2  STON/O2. 3101282   7.9250   NaN        S           0            0  \n",
      "3            113803  53.1000  C123        S           1            0  \n",
      "4            373450   8.0500   NaN        S           0            0  \n"
     ]
    }
   ],
   "source": [
    "# Create a first class column\n",
    "passengers['FirstClass']=passengers['Pclass'].apply(lambda p: 1 if p==1 else 0) \n",
    "\n",
    "\n",
    "# Create a second class column\n",
    "passengers['SecondClass']=passengers['Pclass'].apply(lambda p: 1 if p==2 else 0) \n",
    "print(passengers.head())\n",
    "\n"
   ]
  },
  {
   "cell_type": "code",
   "execution_count": 13,
   "metadata": {},
   "outputs": [],
   "source": [
    "# Select the desired features\n",
    "features = passengers[['Sex','Age','FirstClass','SecondClass']]\n",
    "\n",
    "survival = passengers['Survived']\n",
    "\n",
    "# Perform train, test, split\n",
    "train_features, test_features, train_labels,test_labels = train_test_split(features, survival)\n",
    "\n",
    "# Scale the feature data so it has mean = 0 and standard deviation = 1\n",
    "scaler = StandardScaler()\n",
    "\n",
    "train_features = scaler.fit_transform(train_features)\n",
    "\n",
    "test_features = scaler.transform(test_features)\n",
    "\n"
   ]
  },
  {
   "cell_type": "code",
   "execution_count": 14,
   "metadata": {},
   "outputs": [
    {
     "name": "stdout",
     "output_type": "stream",
     "text": [
      "0.7994011976047904\n",
      "0.7802690582959642\n",
      "[[ 1.24469477 -0.3494135   0.93726667  0.45209033]]\n"
     ]
    }
   ],
   "source": [
    "# Create and train the model\n",
    "model = LogisticRegression()\n",
    "\n",
    "model.fit(train_features,train_labels)\n",
    "\n",
    "# Score the model on the train data\n",
    "print(model.score(train_features,train_labels))\n",
    "\n",
    "# Score the model on the test data\n",
    "print(model.score(test_features,test_labels))\n",
    "\n",
    "# Analyze the coefficients\n",
    "print(model.coef_)\n",
    "\n"
   ]
  },
  {
   "cell_type": "code",
   "execution_count": 15,
   "metadata": {},
   "outputs": [
    {
     "name": "stdout",
     "output_type": "stream",
     "text": [
      "[0 1 0]\n"
     ]
    }
   ],
   "source": [
    "# Sample passenger features\n",
    "Jack = np.array([0.0,20.0,0.0,0.0])\n",
    "Rose = np.array([1.0,17.0,1.0,0.0])\n",
    "You = np.array([0.0,25.0,0.0,1.0]) # unfortunately if i was there i will be dead from this model prediction :P\n",
    "\n",
    "# Combine passenger arrays\n",
    "sample_passengers = np.array([Jack,Rose,You])\n",
    "\n",
    "# Scale the sample passenger features\n",
    "\n",
    "sample_passengers = scaler.transform(sample_passengers)\n",
    "\n",
    "# Make survival predictions!\n",
    "print(model.predict(sample_passengers))"
   ]
  },
  {
   "cell_type": "code",
   "execution_count": null,
   "metadata": {},
   "outputs": [],
   "source": []
  }
 ],
 "metadata": {
  "kernelspec": {
   "display_name": "Python 3",
   "language": "python",
   "name": "python3"
  },
  "language_info": {
   "codemirror_mode": {
    "name": "ipython",
    "version": 3
   },
   "file_extension": ".py",
   "mimetype": "text/x-python",
   "name": "python",
   "nbconvert_exporter": "python",
   "pygments_lexer": "ipython3",
   "version": "3.7.4"
  }
 },
 "nbformat": 4,
 "nbformat_minor": 2
}
